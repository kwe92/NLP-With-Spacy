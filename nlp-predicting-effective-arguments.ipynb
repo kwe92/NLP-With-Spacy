{
 "cells": [
  {
   "cell_type": "markdown",
   "id": "a1edce6f",
   "metadata": {
    "papermill": {
     "duration": 0.015112,
     "end_time": "2022-07-05T15:38:40.317021",
     "exception": false,
     "start_time": "2022-07-05T15:38:40.301909",
     "status": "completed"
    },
    "tags": []
   },
   "source": [
    "# Import Libraries"
   ]
  },
  {
   "cell_type": "code",
   "execution_count": 1,
   "id": "20d1ee34",
   "metadata": {
    "execution": {
     "iopub.execute_input": "2022-07-05T15:38:40.347560Z",
     "iopub.status.busy": "2022-07-05T15:38:40.346769Z",
     "iopub.status.idle": "2022-07-05T15:38:42.104040Z",
     "shell.execute_reply": "2022-07-05T15:38:42.102920Z"
    },
    "papermill": {
     "duration": 1.776006,
     "end_time": "2022-07-05T15:38:42.107103",
     "exception": false,
     "start_time": "2022-07-05T15:38:40.331097",
     "status": "completed"
    },
    "tags": []
   },
   "outputs": [],
   "source": [
    "import pandas as pd\n",
    "import numpy as np\n",
    "import spacy\n",
    "import re\n",
    "import sklearn\n",
    "import xgboost as xgb\n",
    "from sklearn.model_selection import train_test_split\n",
    "from sklearn.preprocessing import LabelEncoder\n",
    "from collections import Counter\n",
    "from sklearn.preprocessing import StandardScaler\n",
    "from sklearn.feature_extraction.text import CountVectorizer\n",
    "from sklearn.model_selection import cross_val_score\n",
    "from scipy import sparse\n",
    "from tqdm import tqdm"
   ]
  },
  {
   "cell_type": "code",
   "execution_count": 2,
   "id": "89c7bde4",
   "metadata": {
    "execution": {
     "iopub.execute_input": "2022-07-05T15:38:42.140541Z",
     "iopub.status.busy": "2022-07-05T15:38:42.139549Z",
     "iopub.status.idle": "2022-07-05T15:38:43.485337Z",
     "shell.execute_reply": "2022-07-05T15:38:43.484377Z"
    },
    "papermill": {
     "duration": 1.363926,
     "end_time": "2022-07-05T15:38:43.487976",
     "exception": false,
     "start_time": "2022-07-05T15:38:42.124050",
     "status": "completed"
    },
    "tags": []
   },
   "outputs": [],
   "source": [
    "nlp = spacy.load('en_core_web_sm')"
   ]
  },
  {
   "cell_type": "markdown",
   "id": "2e0375ff",
   "metadata": {
    "papermill": {
     "duration": 0.014673,
     "end_time": "2022-07-05T15:38:43.516738",
     "exception": false,
     "start_time": "2022-07-05T15:38:43.502065",
     "status": "completed"
    },
    "tags": []
   },
   "source": [
    "# Load Source Data"
   ]
  },
  {
   "cell_type": "code",
   "execution_count": 3,
   "id": "cc9cff9d",
   "metadata": {
    "execution": {
     "iopub.execute_input": "2022-07-05T15:38:43.546850Z",
     "iopub.status.busy": "2022-07-05T15:38:43.546407Z",
     "iopub.status.idle": "2022-07-05T15:38:43.847023Z",
     "shell.execute_reply": "2022-07-05T15:38:43.846074Z"
    },
    "papermill": {
     "duration": 0.318795,
     "end_time": "2022-07-05T15:38:43.849684",
     "exception": false,
     "start_time": "2022-07-05T15:38:43.530889",
     "status": "completed"
    },
    "tags": []
   },
   "outputs": [],
   "source": [
    "train_data = pd.read_csv('../input/feedback-prize-effectiveness/train.csv')\n",
    "test_data = pd.read_csv('../input/feedback-prize-effectiveness/test.csv')\n",
    "sub = pd.read_csv(\"../input/feedback-prize-effectiveness/sample_submission.csv\")"
   ]
  },
  {
   "cell_type": "code",
   "execution_count": 4,
   "id": "81b9f7d4",
   "metadata": {
    "execution": {
     "iopub.execute_input": "2022-07-05T15:38:43.880015Z",
     "iopub.status.busy": "2022-07-05T15:38:43.879596Z",
     "iopub.status.idle": "2022-07-05T15:38:43.935363Z",
     "shell.execute_reply": "2022-07-05T15:38:43.934382Z"
    },
    "papermill": {
     "duration": 0.073898,
     "end_time": "2022-07-05T15:38:43.938093",
     "exception": false,
     "start_time": "2022-07-05T15:38:43.864195",
     "status": "completed"
    },
    "tags": []
   },
   "outputs": [],
   "source": [
    "train_data = train_data.drop_duplicates(subset=\"discourse_text\")\n",
    "test_data = test_data.drop_duplicates(subset=\"discourse_text\")"
   ]
  },
  {
   "cell_type": "code",
   "execution_count": 5,
   "id": "42220b65",
   "metadata": {
    "execution": {
     "iopub.execute_input": "2022-07-05T15:38:43.967638Z",
     "iopub.status.busy": "2022-07-05T15:38:43.966970Z",
     "iopub.status.idle": "2022-07-05T15:38:43.973135Z",
     "shell.execute_reply": "2022-07-05T15:38:43.972390Z"
    },
    "papermill": {
     "duration": 0.023778,
     "end_time": "2022-07-05T15:38:43.975725",
     "exception": false,
     "start_time": "2022-07-05T15:38:43.951947",
     "status": "completed"
    },
    "tags": []
   },
   "outputs": [
    {
     "name": "stdout",
     "output_type": "stream",
     "text": [
      "(36691, 5) (10, 4)\n"
     ]
    }
   ],
   "source": [
    "print(train_data.shape, test_data.shape)"
   ]
  },
  {
   "cell_type": "code",
   "execution_count": 6,
   "id": "377adf18",
   "metadata": {
    "execution": {
     "iopub.execute_input": "2022-07-05T15:38:44.005071Z",
     "iopub.status.busy": "2022-07-05T15:38:44.004667Z",
     "iopub.status.idle": "2022-07-05T15:38:44.023194Z",
     "shell.execute_reply": "2022-07-05T15:38:44.022355Z"
    },
    "papermill": {
     "duration": 0.035835,
     "end_time": "2022-07-05T15:38:44.025351",
     "exception": false,
     "start_time": "2022-07-05T15:38:43.989516",
     "status": "completed"
    },
    "tags": []
   },
   "outputs": [
    {
     "data": {
      "text/html": [
       "<div>\n",
       "<style scoped>\n",
       "    .dataframe tbody tr th:only-of-type {\n",
       "        vertical-align: middle;\n",
       "    }\n",
       "\n",
       "    .dataframe tbody tr th {\n",
       "        vertical-align: top;\n",
       "    }\n",
       "\n",
       "    .dataframe thead th {\n",
       "        text-align: right;\n",
       "    }\n",
       "</style>\n",
       "<table border=\"1\" class=\"dataframe\">\n",
       "  <thead>\n",
       "    <tr style=\"text-align: right;\">\n",
       "      <th></th>\n",
       "      <th>discourse_id</th>\n",
       "      <th>essay_id</th>\n",
       "      <th>discourse_text</th>\n",
       "      <th>discourse_type</th>\n",
       "      <th>discourse_effectiveness</th>\n",
       "    </tr>\n",
       "  </thead>\n",
       "  <tbody>\n",
       "    <tr>\n",
       "      <th>0</th>\n",
       "      <td>0013cc385424</td>\n",
       "      <td>007ACE74B050</td>\n",
       "      <td>Hi, i'm Isaac, i'm going to be writing about h...</td>\n",
       "      <td>Lead</td>\n",
       "      <td>Adequate</td>\n",
       "    </tr>\n",
       "    <tr>\n",
       "      <th>1</th>\n",
       "      <td>9704a709b505</td>\n",
       "      <td>007ACE74B050</td>\n",
       "      <td>On my perspective, I think that the face is a ...</td>\n",
       "      <td>Position</td>\n",
       "      <td>Adequate</td>\n",
       "    </tr>\n",
       "    <tr>\n",
       "      <th>2</th>\n",
       "      <td>c22adee811b6</td>\n",
       "      <td>007ACE74B050</td>\n",
       "      <td>I think that the face is a natural landform be...</td>\n",
       "      <td>Claim</td>\n",
       "      <td>Adequate</td>\n",
       "    </tr>\n",
       "    <tr>\n",
       "      <th>3</th>\n",
       "      <td>a10d361e54e4</td>\n",
       "      <td>007ACE74B050</td>\n",
       "      <td>If life was on Mars, we would know by now. The...</td>\n",
       "      <td>Evidence</td>\n",
       "      <td>Adequate</td>\n",
       "    </tr>\n",
       "    <tr>\n",
       "      <th>4</th>\n",
       "      <td>db3e453ec4e2</td>\n",
       "      <td>007ACE74B050</td>\n",
       "      <td>People thought that the face was formed by ali...</td>\n",
       "      <td>Counterclaim</td>\n",
       "      <td>Adequate</td>\n",
       "    </tr>\n",
       "  </tbody>\n",
       "</table>\n",
       "</div>"
      ],
      "text/plain": [
       "   discourse_id      essay_id  \\\n",
       "0  0013cc385424  007ACE74B050   \n",
       "1  9704a709b505  007ACE74B050   \n",
       "2  c22adee811b6  007ACE74B050   \n",
       "3  a10d361e54e4  007ACE74B050   \n",
       "4  db3e453ec4e2  007ACE74B050   \n",
       "\n",
       "                                      discourse_text discourse_type  \\\n",
       "0  Hi, i'm Isaac, i'm going to be writing about h...           Lead   \n",
       "1  On my perspective, I think that the face is a ...       Position   \n",
       "2  I think that the face is a natural landform be...          Claim   \n",
       "3  If life was on Mars, we would know by now. The...       Evidence   \n",
       "4  People thought that the face was formed by ali...   Counterclaim   \n",
       "\n",
       "  discourse_effectiveness  \n",
       "0                Adequate  \n",
       "1                Adequate  \n",
       "2                Adequate  \n",
       "3                Adequate  \n",
       "4                Adequate  "
      ]
     },
     "execution_count": 6,
     "metadata": {},
     "output_type": "execute_result"
    }
   ],
   "source": [
    "train_data.head()"
   ]
  },
  {
   "cell_type": "code",
   "execution_count": 7,
   "id": "80601db2",
   "metadata": {
    "execution": {
     "iopub.execute_input": "2022-07-05T15:38:44.056273Z",
     "iopub.status.busy": "2022-07-05T15:38:44.055121Z",
     "iopub.status.idle": "2022-07-05T15:38:44.066574Z",
     "shell.execute_reply": "2022-07-05T15:38:44.065500Z"
    },
    "papermill": {
     "duration": 0.029163,
     "end_time": "2022-07-05T15:38:44.068817",
     "exception": false,
     "start_time": "2022-07-05T15:38:44.039654",
     "status": "completed"
    },
    "tags": []
   },
   "outputs": [
    {
     "data": {
      "text/html": [
       "<div>\n",
       "<style scoped>\n",
       "    .dataframe tbody tr th:only-of-type {\n",
       "        vertical-align: middle;\n",
       "    }\n",
       "\n",
       "    .dataframe tbody tr th {\n",
       "        vertical-align: top;\n",
       "    }\n",
       "\n",
       "    .dataframe thead th {\n",
       "        text-align: right;\n",
       "    }\n",
       "</style>\n",
       "<table border=\"1\" class=\"dataframe\">\n",
       "  <thead>\n",
       "    <tr style=\"text-align: right;\">\n",
       "      <th></th>\n",
       "      <th>discourse_id</th>\n",
       "      <th>essay_id</th>\n",
       "      <th>discourse_text</th>\n",
       "      <th>discourse_type</th>\n",
       "    </tr>\n",
       "  </thead>\n",
       "  <tbody>\n",
       "    <tr>\n",
       "      <th>0</th>\n",
       "      <td>a261b6e14276</td>\n",
       "      <td>D72CB1C11673</td>\n",
       "      <td>Making choices in life can be very difficult. ...</td>\n",
       "      <td>Lead</td>\n",
       "    </tr>\n",
       "    <tr>\n",
       "      <th>1</th>\n",
       "      <td>5a88900e7dc1</td>\n",
       "      <td>D72CB1C11673</td>\n",
       "      <td>Seeking multiple opinions can help a person ma...</td>\n",
       "      <td>Position</td>\n",
       "    </tr>\n",
       "    <tr>\n",
       "      <th>2</th>\n",
       "      <td>9790d835736b</td>\n",
       "      <td>D72CB1C11673</td>\n",
       "      <td>it can decrease stress levels</td>\n",
       "      <td>Claim</td>\n",
       "    </tr>\n",
       "    <tr>\n",
       "      <th>3</th>\n",
       "      <td>75ce6d68b67b</td>\n",
       "      <td>D72CB1C11673</td>\n",
       "      <td>a great chance to learn something new</td>\n",
       "      <td>Claim</td>\n",
       "    </tr>\n",
       "    <tr>\n",
       "      <th>4</th>\n",
       "      <td>93578d946723</td>\n",
       "      <td>D72CB1C11673</td>\n",
       "      <td>can be very helpful and beneficial.</td>\n",
       "      <td>Claim</td>\n",
       "    </tr>\n",
       "  </tbody>\n",
       "</table>\n",
       "</div>"
      ],
      "text/plain": [
       "   discourse_id      essay_id  \\\n",
       "0  a261b6e14276  D72CB1C11673   \n",
       "1  5a88900e7dc1  D72CB1C11673   \n",
       "2  9790d835736b  D72CB1C11673   \n",
       "3  75ce6d68b67b  D72CB1C11673   \n",
       "4  93578d946723  D72CB1C11673   \n",
       "\n",
       "                                      discourse_text discourse_type  \n",
       "0  Making choices in life can be very difficult. ...           Lead  \n",
       "1  Seeking multiple opinions can help a person ma...       Position  \n",
       "2                     it can decrease stress levels           Claim  \n",
       "3             a great chance to learn something new           Claim  \n",
       "4               can be very helpful and beneficial.           Claim  "
      ]
     },
     "execution_count": 7,
     "metadata": {},
     "output_type": "execute_result"
    }
   ],
   "source": [
    "test_data.head()"
   ]
  },
  {
   "cell_type": "code",
   "execution_count": 8,
   "id": "b0136a19",
   "metadata": {
    "execution": {
     "iopub.execute_input": "2022-07-05T15:38:44.100316Z",
     "iopub.status.busy": "2022-07-05T15:38:44.099901Z",
     "iopub.status.idle": "2022-07-05T15:38:44.137759Z",
     "shell.execute_reply": "2022-07-05T15:38:44.136469Z"
    },
    "papermill": {
     "duration": 0.056717,
     "end_time": "2022-07-05T15:38:44.140626",
     "exception": false,
     "start_time": "2022-07-05T15:38:44.083909",
     "status": "completed"
    },
    "tags": []
   },
   "outputs": [
    {
     "name": "stdout",
     "output_type": "stream",
     "text": [
      "<class 'pandas.core.frame.DataFrame'>\n",
      "Int64Index: 36691 entries, 0 to 36764\n",
      "Data columns (total 5 columns):\n",
      " #   Column                   Non-Null Count  Dtype \n",
      "---  ------                   --------------  ----- \n",
      " 0   discourse_id             36691 non-null  object\n",
      " 1   essay_id                 36691 non-null  object\n",
      " 2   discourse_text           36691 non-null  object\n",
      " 3   discourse_type           36691 non-null  object\n",
      " 4   discourse_effectiveness  36691 non-null  object\n",
      "dtypes: object(5)\n",
      "memory usage: 1.7+ MB\n"
     ]
    }
   ],
   "source": [
    "train_data.info()"
   ]
  },
  {
   "cell_type": "code",
   "execution_count": 9,
   "id": "32d84153",
   "metadata": {
    "execution": {
     "iopub.execute_input": "2022-07-05T15:38:44.172274Z",
     "iopub.status.busy": "2022-07-05T15:38:44.171347Z",
     "iopub.status.idle": "2022-07-05T15:38:44.180546Z",
     "shell.execute_reply": "2022-07-05T15:38:44.179772Z"
    },
    "papermill": {
     "duration": 0.026872,
     "end_time": "2022-07-05T15:38:44.182495",
     "exception": false,
     "start_time": "2022-07-05T15:38:44.155623",
     "status": "completed"
    },
    "tags": []
   },
   "outputs": [
    {
     "data": {
      "text/plain": [
       "array(['Lead', 'Position', 'Claim', 'Evidence', 'Counterclaim',\n",
       "       'Rebuttal', 'Concluding Statement'], dtype=object)"
      ]
     },
     "execution_count": 9,
     "metadata": {},
     "output_type": "execute_result"
    }
   ],
   "source": [
    "train_data.discourse_type.unique()"
   ]
  },
  {
   "cell_type": "code",
   "execution_count": 10,
   "id": "c2b00e42",
   "metadata": {
    "execution": {
     "iopub.execute_input": "2022-07-05T15:38:44.213905Z",
     "iopub.status.busy": "2022-07-05T15:38:44.213203Z",
     "iopub.status.idle": "2022-07-05T15:38:44.222765Z",
     "shell.execute_reply": "2022-07-05T15:38:44.221748Z"
    },
    "papermill": {
     "duration": 0.027799,
     "end_time": "2022-07-05T15:38:44.224949",
     "exception": false,
     "start_time": "2022-07-05T15:38:44.197150",
     "status": "completed"
    },
    "tags": []
   },
   "outputs": [
    {
     "data": {
      "text/plain": [
       "array(['Adequate', 'Ineffective', 'Effective'], dtype=object)"
      ]
     },
     "execution_count": 10,
     "metadata": {},
     "output_type": "execute_result"
    }
   ],
   "source": [
    "train_data.discourse_effectiveness.unique()"
   ]
  },
  {
   "cell_type": "code",
   "execution_count": 11,
   "id": "54c13d0d",
   "metadata": {
    "execution": {
     "iopub.execute_input": "2022-07-05T15:38:44.256401Z",
     "iopub.status.busy": "2022-07-05T15:38:44.255772Z",
     "iopub.status.idle": "2022-07-05T15:38:44.269243Z",
     "shell.execute_reply": "2022-07-05T15:38:44.268131Z"
    },
    "papermill": {
     "duration": 0.031836,
     "end_time": "2022-07-05T15:38:44.271450",
     "exception": false,
     "start_time": "2022-07-05T15:38:44.239614",
     "status": "completed"
    },
    "tags": []
   },
   "outputs": [
    {
     "name": "stdout",
     "output_type": "stream",
     "text": [
      "Count of Discourse Effectiveness\n"
     ]
    },
    {
     "data": {
      "text/plain": [
       "Adequate       20912\n",
       "Effective       9323\n",
       "Ineffective     6456\n",
       "Name: discourse_effectiveness, dtype: int64"
      ]
     },
     "execution_count": 11,
     "metadata": {},
     "output_type": "execute_result"
    }
   ],
   "source": [
    "print(\"Count of Discourse Effectiveness\")\n",
    "\n",
    "train_data.discourse_effectiveness.value_counts()"
   ]
  },
  {
   "cell_type": "code",
   "execution_count": 12,
   "id": "9d097956",
   "metadata": {
    "execution": {
     "iopub.execute_input": "2022-07-05T15:38:44.303066Z",
     "iopub.status.busy": "2022-07-05T15:38:44.302651Z",
     "iopub.status.idle": "2022-07-05T15:38:44.317482Z",
     "shell.execute_reply": "2022-07-05T15:38:44.316290Z"
    },
    "papermill": {
     "duration": 0.033335,
     "end_time": "2022-07-05T15:38:44.319614",
     "exception": false,
     "start_time": "2022-07-05T15:38:44.286279",
     "status": "completed"
    },
    "tags": []
   },
   "outputs": [
    {
     "name": "stdout",
     "output_type": "stream",
     "text": [
      "Discourse Effectiveness Percent of Total\n"
     ]
    },
    {
     "data": {
      "text/plain": [
       "Adequate       0.569949\n",
       "Effective      0.254095\n",
       "Ineffective    0.175956\n",
       "Name: discourse_effectiveness, dtype: float64"
      ]
     },
     "execution_count": 12,
     "metadata": {},
     "output_type": "execute_result"
    }
   ],
   "source": [
    "print(\"Discourse Effectiveness Percent of Total\")\n",
    "\n",
    "train_data.discourse_effectiveness.value_counts() / train_data.shape[0]"
   ]
  },
  {
   "cell_type": "code",
   "execution_count": 13,
   "id": "1b7e338e",
   "metadata": {
    "execution": {
     "iopub.execute_input": "2022-07-05T15:38:44.351583Z",
     "iopub.status.busy": "2022-07-05T15:38:44.351171Z",
     "iopub.status.idle": "2022-07-05T15:38:44.426511Z",
     "shell.execute_reply": "2022-07-05T15:38:44.425709Z"
    },
    "papermill": {
     "duration": 0.094182,
     "end_time": "2022-07-05T15:38:44.428887",
     "exception": false,
     "start_time": "2022-07-05T15:38:44.334705",
     "status": "completed"
    },
    "tags": []
   },
   "outputs": [],
   "source": [
    "train_data.replace({\"Ineffective\":0,\"Adequate\":1,\"Effective\":2},inplace=True)"
   ]
  },
  {
   "cell_type": "code",
   "execution_count": 14,
   "id": "28dd9692",
   "metadata": {
    "execution": {
     "iopub.execute_input": "2022-07-05T15:38:44.461428Z",
     "iopub.status.busy": "2022-07-05T15:38:44.460487Z",
     "iopub.status.idle": "2022-07-05T15:38:44.469674Z",
     "shell.execute_reply": "2022-07-05T15:38:44.468607Z"
    },
    "papermill": {
     "duration": 0.027971,
     "end_time": "2022-07-05T15:38:44.471997",
     "exception": false,
     "start_time": "2022-07-05T15:38:44.444026",
     "status": "completed"
    },
    "tags": []
   },
   "outputs": [
    {
     "data": {
      "text/plain": [
       "1    20912\n",
       "2     9323\n",
       "0     6456\n",
       "Name: discourse_effectiveness, dtype: int64"
      ]
     },
     "execution_count": 14,
     "metadata": {},
     "output_type": "execute_result"
    }
   ],
   "source": [
    "train_data.discourse_effectiveness.value_counts()"
   ]
  },
  {
   "cell_type": "code",
   "execution_count": 15,
   "id": "099700a1",
   "metadata": {
    "execution": {
     "iopub.execute_input": "2022-07-05T15:38:44.504361Z",
     "iopub.status.busy": "2022-07-05T15:38:44.503952Z",
     "iopub.status.idle": "2022-07-05T15:38:44.516690Z",
     "shell.execute_reply": "2022-07-05T15:38:44.515648Z"
    },
    "papermill": {
     "duration": 0.031694,
     "end_time": "2022-07-05T15:38:44.518904",
     "exception": false,
     "start_time": "2022-07-05T15:38:44.487210",
     "status": "completed"
    },
    "tags": []
   },
   "outputs": [
    {
     "data": {
      "text/html": [
       "<div>\n",
       "<style scoped>\n",
       "    .dataframe tbody tr th:only-of-type {\n",
       "        vertical-align: middle;\n",
       "    }\n",
       "\n",
       "    .dataframe tbody tr th {\n",
       "        vertical-align: top;\n",
       "    }\n",
       "\n",
       "    .dataframe thead th {\n",
       "        text-align: right;\n",
       "    }\n",
       "</style>\n",
       "<table border=\"1\" class=\"dataframe\">\n",
       "  <thead>\n",
       "    <tr style=\"text-align: right;\">\n",
       "      <th></th>\n",
       "      <th>discourse_id</th>\n",
       "      <th>essay_id</th>\n",
       "      <th>discourse_text</th>\n",
       "      <th>discourse_type</th>\n",
       "      <th>discourse_effectiveness</th>\n",
       "    </tr>\n",
       "  </thead>\n",
       "  <tbody>\n",
       "    <tr>\n",
       "      <th>0</th>\n",
       "      <td>0013cc385424</td>\n",
       "      <td>007ACE74B050</td>\n",
       "      <td>Hi, i'm Isaac, i'm going to be writing about h...</td>\n",
       "      <td>Lead</td>\n",
       "      <td>1</td>\n",
       "    </tr>\n",
       "    <tr>\n",
       "      <th>1</th>\n",
       "      <td>9704a709b505</td>\n",
       "      <td>007ACE74B050</td>\n",
       "      <td>On my perspective, I think that the face is a ...</td>\n",
       "      <td>Position</td>\n",
       "      <td>1</td>\n",
       "    </tr>\n",
       "    <tr>\n",
       "      <th>2</th>\n",
       "      <td>c22adee811b6</td>\n",
       "      <td>007ACE74B050</td>\n",
       "      <td>I think that the face is a natural landform be...</td>\n",
       "      <td>Claim</td>\n",
       "      <td>1</td>\n",
       "    </tr>\n",
       "    <tr>\n",
       "      <th>3</th>\n",
       "      <td>a10d361e54e4</td>\n",
       "      <td>007ACE74B050</td>\n",
       "      <td>If life was on Mars, we would know by now. The...</td>\n",
       "      <td>Evidence</td>\n",
       "      <td>1</td>\n",
       "    </tr>\n",
       "    <tr>\n",
       "      <th>4</th>\n",
       "      <td>db3e453ec4e2</td>\n",
       "      <td>007ACE74B050</td>\n",
       "      <td>People thought that the face was formed by ali...</td>\n",
       "      <td>Counterclaim</td>\n",
       "      <td>1</td>\n",
       "    </tr>\n",
       "  </tbody>\n",
       "</table>\n",
       "</div>"
      ],
      "text/plain": [
       "   discourse_id      essay_id  \\\n",
       "0  0013cc385424  007ACE74B050   \n",
       "1  9704a709b505  007ACE74B050   \n",
       "2  c22adee811b6  007ACE74B050   \n",
       "3  a10d361e54e4  007ACE74B050   \n",
       "4  db3e453ec4e2  007ACE74B050   \n",
       "\n",
       "                                      discourse_text discourse_type  \\\n",
       "0  Hi, i'm Isaac, i'm going to be writing about h...           Lead   \n",
       "1  On my perspective, I think that the face is a ...       Position   \n",
       "2  I think that the face is a natural landform be...          Claim   \n",
       "3  If life was on Mars, we would know by now. The...       Evidence   \n",
       "4  People thought that the face was formed by ali...   Counterclaim   \n",
       "\n",
       "   discourse_effectiveness  \n",
       "0                        1  \n",
       "1                        1  \n",
       "2                        1  \n",
       "3                        1  \n",
       "4                        1  "
      ]
     },
     "execution_count": 15,
     "metadata": {},
     "output_type": "execute_result"
    }
   ],
   "source": [
    "train_data.head()"
   ]
  },
  {
   "cell_type": "markdown",
   "id": "77245d05",
   "metadata": {
    "papermill": {
     "duration": 0.015136,
     "end_time": "2022-07-05T15:38:44.549510",
     "exception": false,
     "start_time": "2022-07-05T15:38:44.534374",
     "status": "completed"
    },
    "tags": []
   },
   "source": [
    "# Load Spacy Pipeline"
   ]
  },
  {
   "cell_type": "code",
   "execution_count": 16,
   "id": "05a8277f",
   "metadata": {
    "execution": {
     "iopub.execute_input": "2022-07-05T15:38:44.582783Z",
     "iopub.status.busy": "2022-07-05T15:38:44.581708Z",
     "iopub.status.idle": "2022-07-05T15:38:45.569320Z",
     "shell.execute_reply": "2022-07-05T15:38:45.568113Z"
    },
    "papermill": {
     "duration": 1.007152,
     "end_time": "2022-07-05T15:38:45.572146",
     "exception": false,
     "start_time": "2022-07-05T15:38:44.564994",
     "status": "completed"
    },
    "tags": []
   },
   "outputs": [],
   "source": [
    "nlp = spacy.load(\"en_core_web_sm\")"
   ]
  },
  {
   "cell_type": "code",
   "execution_count": 17,
   "id": "ff9c5851",
   "metadata": {
    "execution": {
     "iopub.execute_input": "2022-07-05T15:38:45.605241Z",
     "iopub.status.busy": "2022-07-05T15:38:45.604852Z",
     "iopub.status.idle": "2022-07-05T15:42:50.062203Z",
     "shell.execute_reply": "2022-07-05T15:42:50.061011Z"
    },
    "papermill": {
     "duration": 244.476977,
     "end_time": "2022-07-05T15:42:50.065045",
     "exception": false,
     "start_time": "2022-07-05T15:38:45.588068",
     "status": "completed"
    },
    "tags": []
   },
   "outputs": [],
   "source": [
    "docs = [*nlp.pipe(train_data.discourse_text)]"
   ]
  },
  {
   "cell_type": "markdown",
   "id": "106ab146",
   "metadata": {
    "papermill": {
     "duration": 0.015358,
     "end_time": "2022-07-05T15:42:50.096568",
     "exception": false,
     "start_time": "2022-07-05T15:42:50.081210",
     "status": "completed"
    },
    "tags": []
   },
   "source": [
    "# Functions"
   ]
  },
  {
   "cell_type": "code",
   "execution_count": 18,
   "id": "05e13bae",
   "metadata": {
    "execution": {
     "iopub.execute_input": "2022-07-05T15:42:50.130385Z",
     "iopub.status.busy": "2022-07-05T15:42:50.129976Z",
     "iopub.status.idle": "2022-07-05T15:42:50.139896Z",
     "shell.execute_reply": "2022-07-05T15:42:50.139019Z"
    },
    "papermill": {
     "duration": 0.029543,
     "end_time": "2022-07-05T15:42:50.142050",
     "exception": false,
     "start_time": "2022-07-05T15:42:50.112507",
     "status": "completed"
    },
    "tags": []
   },
   "outputs": [],
   "source": [
    "def pos_count(doc):\n",
    "    nn_count = 0   #Noun\n",
    "    pr_count = 0   #Pronoun\n",
    "    vb_count = 0   #Verb\n",
    "    adv_count = 0  #Adverb\n",
    "    con_count = 0  #Conjuntion\n",
    "    adj_count = 0  #Adjective\n",
    "    intj_count = 0 #Interjection\n",
    "    num_count = 0  #Numerics\n",
    "\n",
    "    for token in doc:\n",
    "        if token.pos_ == 'NOUN': #Noun\n",
    "            nn_count += 1\n",
    "\n",
    "        if token.pos_ == \"PRON\": #Pronoun\n",
    "            pr_count += 1\n",
    "        \n",
    "        if token.pos_ == \"CONJ\": #Conjunction\n",
    "            con_count += 1\n",
    "\n",
    "        if token.pos_ == 'VERB': #Verb\n",
    "            vb_count += 1\n",
    "\n",
    "        if token.pos_ == 'ADV': #Adverb\n",
    "            adv_count += 1\n",
    "        \n",
    "        if token.pos_ == 'ADJ': #Adjective\n",
    "            adj_count += 1\n",
    "\n",
    "        if token.pos_ == 'INTJ': #Interjection\n",
    "            intj_count += 1\n",
    "\n",
    "        if token.pos_ == 'NUM': #Numerics\n",
    "            num_count += 1\n",
    "    \n",
    "    return pd.Series([nn_count, pr_count, vb_count, adv_count, con_count, adj_count, intj_count, num_count])"
   ]
  },
  {
   "cell_type": "code",
   "execution_count": 19,
   "id": "712065d7",
   "metadata": {
    "execution": {
     "iopub.execute_input": "2022-07-05T15:42:50.175996Z",
     "iopub.status.busy": "2022-07-05T15:42:50.175297Z",
     "iopub.status.idle": "2022-07-05T15:42:50.187335Z",
     "shell.execute_reply": "2022-07-05T15:42:50.186217Z"
    },
    "papermill": {
     "duration": 0.031986,
     "end_time": "2022-07-05T15:42:50.189678",
     "exception": false,
     "start_time": "2022-07-05T15:42:50.157692",
     "status": "completed"
    },
    "tags": []
   },
   "outputs": [],
   "source": [
    "def text_features(df, col, col2):\n",
    "    df[f\"{col}_num_words\"] = df[col].apply(lambda x: len(str(x).split()))\n",
    "    df[f\"{col}_num_unique_words\"] = df[col].apply(lambda x: len(set(str(x).split())))\n",
    "    df[f\"{col}_num_chars\"] = df[col].apply(lambda x: len(str(x)))\n",
    "    df[f\"{col}_num_stopwords\"] = df[col].apply(lambda x: len([w for w in str(x).lower().split() if w in nlp.Defaults.stop_words]))\n",
    "    df[f\"{col}_num_words_upper\"] = df[col].apply(lambda x: len([w for w in str(x).split() if w.isupper()]))\n",
    "    df[f\"{col}_num_words_title\"] = df[col].apply(lambda x: len([w for w in str(x).split() if w.istitle()]))\n",
    "    df[f\"{col}_mean_word_len\"] = df[col].apply(lambda x: np.mean([len(w) for w in str(x).split()]))\n",
    "    df[f\"{col}_num_paragraphs\"] = df[col].apply(lambda x: len(x.split('\\n')))\n",
    "    df[[f'{col}_nn_count',f'{col}_pr_count',f'{col}_con_count',f'{col}_vb_count',f'{col}_adv_count',f'{col}_adj_count',f'{col}_intj_count',f'{col}_num_count']] = df[col2].apply(pos_count)\n",
    "    return df"
   ]
  },
  {
   "cell_type": "markdown",
   "id": "477060b4",
   "metadata": {
    "papermill": {
     "duration": 0.015833,
     "end_time": "2022-07-05T15:42:50.221096",
     "exception": false,
     "start_time": "2022-07-05T15:42:50.205263",
     "status": "completed"
    },
    "tags": []
   },
   "source": [
    "# Word Processing"
   ]
  },
  {
   "cell_type": "code",
   "execution_count": 20,
   "id": "a3fc46ff",
   "metadata": {
    "execution": {
     "iopub.execute_input": "2022-07-05T15:42:50.255086Z",
     "iopub.status.busy": "2022-07-05T15:42:50.254640Z",
     "iopub.status.idle": "2022-07-05T15:42:50.346202Z",
     "shell.execute_reply": "2022-07-05T15:42:50.345054Z"
    },
    "papermill": {
     "duration": 0.111852,
     "end_time": "2022-07-05T15:42:50.348937",
     "exception": false,
     "start_time": "2022-07-05T15:42:50.237085",
     "status": "completed"
    },
    "tags": []
   },
   "outputs": [],
   "source": [
    "train_data[\"discourse_text_docs\"] = docs"
   ]
  },
  {
   "cell_type": "code",
   "execution_count": 21,
   "id": "6ef29012",
   "metadata": {
    "execution": {
     "iopub.execute_input": "2022-07-05T15:42:50.382273Z",
     "iopub.status.busy": "2022-07-05T15:42:50.381848Z",
     "iopub.status.idle": "2022-07-05T15:42:50.386396Z",
     "shell.execute_reply": "2022-07-05T15:42:50.385575Z"
    },
    "papermill": {
     "duration": 0.023973,
     "end_time": "2022-07-05T15:42:50.388521",
     "exception": false,
     "start_time": "2022-07-05T15:42:50.364548",
     "status": "completed"
    },
    "tags": []
   },
   "outputs": [],
   "source": [
    "le = LabelEncoder()"
   ]
  },
  {
   "cell_type": "code",
   "execution_count": 22,
   "id": "c1d13cd1",
   "metadata": {
    "execution": {
     "iopub.execute_input": "2022-07-05T15:42:50.421892Z",
     "iopub.status.busy": "2022-07-05T15:42:50.421286Z",
     "iopub.status.idle": "2022-07-05T15:42:50.436601Z",
     "shell.execute_reply": "2022-07-05T15:42:50.435776Z"
    },
    "papermill": {
     "duration": 0.034768,
     "end_time": "2022-07-05T15:42:50.439124",
     "exception": false,
     "start_time": "2022-07-05T15:42:50.404356",
     "status": "completed"
    },
    "tags": []
   },
   "outputs": [],
   "source": [
    "discourse_type_labels = le.fit_transform(train_data.discourse_type)"
   ]
  },
  {
   "cell_type": "code",
   "execution_count": 23,
   "id": "06a64ca1",
   "metadata": {
    "execution": {
     "iopub.execute_input": "2022-07-05T15:42:50.472876Z",
     "iopub.status.busy": "2022-07-05T15:42:50.472284Z",
     "iopub.status.idle": "2022-07-05T15:42:50.478726Z",
     "shell.execute_reply": "2022-07-05T15:42:50.477927Z"
    },
    "papermill": {
     "duration": 0.025997,
     "end_time": "2022-07-05T15:42:50.480946",
     "exception": false,
     "start_time": "2022-07-05T15:42:50.454949",
     "status": "completed"
    },
    "tags": []
   },
   "outputs": [],
   "source": [
    "train_data['discourse_type'] = discourse_type_labels"
   ]
  },
  {
   "cell_type": "code",
   "execution_count": 24,
   "id": "85cbc937",
   "metadata": {
    "execution": {
     "iopub.execute_input": "2022-07-05T15:42:50.515269Z",
     "iopub.status.busy": "2022-07-05T15:42:50.514624Z",
     "iopub.status.idle": "2022-07-05T15:43:03.776559Z",
     "shell.execute_reply": "2022-07-05T15:43:03.774486Z"
    },
    "papermill": {
     "duration": 13.283721,
     "end_time": "2022-07-05T15:43:03.780749",
     "exception": false,
     "start_time": "2022-07-05T15:42:50.497028",
     "status": "completed"
    },
    "tags": []
   },
   "outputs": [],
   "source": [
    "train_data2 = text_features(train_data,\"discourse_text\",\"discourse_text_docs\").copy()"
   ]
  },
  {
   "cell_type": "code",
   "execution_count": 25,
   "id": "e0cade04",
   "metadata": {
    "execution": {
     "iopub.execute_input": "2022-07-05T15:43:03.824071Z",
     "iopub.status.busy": "2022-07-05T15:43:03.823312Z",
     "iopub.status.idle": "2022-07-05T15:43:03.832253Z",
     "shell.execute_reply": "2022-07-05T15:43:03.831330Z"
    },
    "papermill": {
     "duration": 0.035418,
     "end_time": "2022-07-05T15:43:03.835533",
     "exception": false,
     "start_time": "2022-07-05T15:43:03.800115",
     "status": "completed"
    },
    "tags": []
   },
   "outputs": [],
   "source": [
    "train_data2[\"discourse_effectiveness\"].replace(\"Effective\", value = 2, inplace = True)\n",
    "train_data2[\"discourse_effectiveness\"].replace(\"Adequate\", value = 1, inplace = True)\n",
    "train_data2[\"discourse_effectiveness\"].replace(\"Ineffective\", value = 0, inplace = True)"
   ]
  },
  {
   "cell_type": "code",
   "execution_count": 26,
   "id": "2859c321",
   "metadata": {
    "execution": {
     "iopub.execute_input": "2022-07-05T15:43:03.878401Z",
     "iopub.status.busy": "2022-07-05T15:43:03.877969Z",
     "iopub.status.idle": "2022-07-05T15:43:05.785433Z",
     "shell.execute_reply": "2022-07-05T15:43:05.784426Z"
    },
    "papermill": {
     "duration": 1.932187,
     "end_time": "2022-07-05T15:43:05.788064",
     "exception": false,
     "start_time": "2022-07-05T15:43:03.855877",
     "status": "completed"
    },
    "tags": []
   },
   "outputs": [],
   "source": [
    "cv = CountVectorizer()\n",
    "y = train_data2.discourse_effectiveness.copy()\n",
    "X_train2 = cv.fit_transform(train_data2.discourse_text)"
   ]
  },
  {
   "cell_type": "code",
   "execution_count": 27,
   "id": "4e236505",
   "metadata": {
    "execution": {
     "iopub.execute_input": "2022-07-05T15:43:05.823515Z",
     "iopub.status.busy": "2022-07-05T15:43:05.822476Z",
     "iopub.status.idle": "2022-07-05T15:43:05.831443Z",
     "shell.execute_reply": "2022-07-05T15:43:05.830585Z"
    },
    "papermill": {
     "duration": 0.028829,
     "end_time": "2022-07-05T15:43:05.833887",
     "exception": false,
     "start_time": "2022-07-05T15:43:05.805058",
     "status": "completed"
    },
    "tags": []
   },
   "outputs": [],
   "source": [
    "numeric_data1 = train_data2.drop(columns=['discourse_id','essay_id','discourse_text','discourse_text_docs','discourse_effectiveness'])"
   ]
  },
  {
   "cell_type": "code",
   "execution_count": 28,
   "id": "4023e72c",
   "metadata": {
    "execution": {
     "iopub.execute_input": "2022-07-05T15:43:05.868292Z",
     "iopub.status.busy": "2022-07-05T15:43:05.867589Z",
     "iopub.status.idle": "2022-07-05T15:43:05.871688Z",
     "shell.execute_reply": "2022-07-05T15:43:05.870998Z"
    },
    "papermill": {
     "duration": 0.023701,
     "end_time": "2022-07-05T15:43:05.873662",
     "exception": false,
     "start_time": "2022-07-05T15:43:05.849961",
     "status": "completed"
    },
    "tags": []
   },
   "outputs": [],
   "source": [
    "sc = StandardScaler()"
   ]
  },
  {
   "cell_type": "code",
   "execution_count": 29,
   "id": "8ac8d509",
   "metadata": {
    "execution": {
     "iopub.execute_input": "2022-07-05T15:43:05.908075Z",
     "iopub.status.busy": "2022-07-05T15:43:05.907390Z",
     "iopub.status.idle": "2022-07-05T15:43:05.982704Z",
     "shell.execute_reply": "2022-07-05T15:43:05.981755Z"
    },
    "papermill": {
     "duration": 0.095719,
     "end_time": "2022-07-05T15:43:05.985424",
     "exception": false,
     "start_time": "2022-07-05T15:43:05.889705",
     "status": "completed"
    },
    "tags": []
   },
   "outputs": [],
   "source": [
    "X_training_data = sparse.hstack((X_train2,sc.fit_transform(numeric_data1)))"
   ]
  },
  {
   "cell_type": "code",
   "execution_count": 30,
   "id": "0e4e2f53",
   "metadata": {
    "execution": {
     "iopub.execute_input": "2022-07-05T15:43:06.019580Z",
     "iopub.status.busy": "2022-07-05T15:43:06.018836Z",
     "iopub.status.idle": "2022-07-05T15:43:06.110529Z",
     "shell.execute_reply": "2022-07-05T15:43:06.109370Z"
    },
    "papermill": {
     "duration": 0.111458,
     "end_time": "2022-07-05T15:43:06.113152",
     "exception": false,
     "start_time": "2022-07-05T15:43:06.001694",
     "status": "completed"
    },
    "tags": []
   },
   "outputs": [],
   "source": [
    "X_train, X_test, y_train, y_test = train_test_split(X_training_data,y,test_size=0.25,random_state=8)"
   ]
  },
  {
   "cell_type": "markdown",
   "id": "6d411f15",
   "metadata": {
    "papermill": {
     "duration": 0.015439,
     "end_time": "2022-07-05T15:43:06.144640",
     "exception": false,
     "start_time": "2022-07-05T15:43:06.129201",
     "status": "completed"
    },
    "tags": []
   },
   "source": [
    "# Xgboost"
   ]
  },
  {
   "cell_type": "code",
   "execution_count": 31,
   "id": "1ab63b7e",
   "metadata": {
    "execution": {
     "iopub.execute_input": "2022-07-05T15:43:06.177746Z",
     "iopub.status.busy": "2022-07-05T15:43:06.177360Z",
     "iopub.status.idle": "2022-07-05T15:43:06.182106Z",
     "shell.execute_reply": "2022-07-05T15:43:06.180961Z"
    },
    "papermill": {
     "duration": 0.024121,
     "end_time": "2022-07-05T15:43:06.184366",
     "exception": false,
     "start_time": "2022-07-05T15:43:06.160245",
     "status": "completed"
    },
    "tags": []
   },
   "outputs": [],
   "source": [
    "xgb_classifier = xgb.XGBClassifier(learning_rate=0.37,n_estimators=195)"
   ]
  },
  {
   "cell_type": "code",
   "execution_count": 32,
   "id": "823656e1",
   "metadata": {
    "execution": {
     "iopub.execute_input": "2022-07-05T15:43:06.218005Z",
     "iopub.status.busy": "2022-07-05T15:43:06.217337Z",
     "iopub.status.idle": "2022-07-05T15:43:45.927002Z",
     "shell.execute_reply": "2022-07-05T15:43:45.926193Z"
    },
    "papermill": {
     "duration": 39.744416,
     "end_time": "2022-07-05T15:43:45.944569",
     "exception": false,
     "start_time": "2022-07-05T15:43:06.200153",
     "status": "completed"
    },
    "tags": []
   },
   "outputs": [
    {
     "data": {
      "text/plain": [
       "XGBClassifier(base_score=0.5, booster='gbtree', callbacks=None,\n",
       "              colsample_bylevel=1, colsample_bynode=1, colsample_bytree=1,\n",
       "              early_stopping_rounds=None, enable_categorical=False,\n",
       "              eval_metric=None, gamma=0, gpu_id=-1, grow_policy='depthwise',\n",
       "              importance_type=None, interaction_constraints='',\n",
       "              learning_rate=0.37, max_bin=256, max_cat_to_onehot=4,\n",
       "              max_delta_step=0, max_depth=6, max_leaves=0, min_child_weight=1,\n",
       "              missing=nan, monotone_constraints='()', n_estimators=195,\n",
       "              n_jobs=0, num_parallel_tree=1, objective='multi:softprob',\n",
       "              predictor='auto', random_state=0, reg_alpha=0, ...)"
      ]
     },
     "execution_count": 32,
     "metadata": {},
     "output_type": "execute_result"
    }
   ],
   "source": [
    "xgb_classifier.fit(X_train,y_train)"
   ]
  },
  {
   "cell_type": "code",
   "execution_count": 33,
   "id": "62faad2c",
   "metadata": {
    "execution": {
     "iopub.execute_input": "2022-07-05T15:43:45.978562Z",
     "iopub.status.busy": "2022-07-05T15:43:45.977428Z",
     "iopub.status.idle": "2022-07-05T15:43:46.114541Z",
     "shell.execute_reply": "2022-07-05T15:43:46.113596Z"
    },
    "papermill": {
     "duration": 0.156842,
     "end_time": "2022-07-05T15:43:46.117161",
     "exception": false,
     "start_time": "2022-07-05T15:43:45.960319",
     "status": "completed"
    },
    "tags": []
   },
   "outputs": [],
   "source": [
    "ypred = xgb_classifier.predict(X_test)"
   ]
  },
  {
   "cell_type": "code",
   "execution_count": 34,
   "id": "42b81782",
   "metadata": {
    "execution": {
     "iopub.execute_input": "2022-07-05T15:43:46.152904Z",
     "iopub.status.busy": "2022-07-05T15:43:46.152153Z",
     "iopub.status.idle": "2022-07-05T15:43:46.291346Z",
     "shell.execute_reply": "2022-07-05T15:43:46.290328Z"
    },
    "papermill": {
     "duration": 0.159008,
     "end_time": "2022-07-05T15:43:46.294123",
     "exception": false,
     "start_time": "2022-07-05T15:43:46.135115",
     "status": "completed"
    },
    "tags": []
   },
   "outputs": [
    {
     "data": {
      "text/plain": [
       "array([[0.8478075 , 0.11659585, 0.03559665],\n",
       "       [0.20321141, 0.75441337, 0.04237525],\n",
       "       [0.05199059, 0.51025623, 0.43775323],\n",
       "       ...,\n",
       "       [0.30913314, 0.6779621 , 0.01290474],\n",
       "       [0.11944469, 0.8574001 , 0.02315524],\n",
       "       [0.08175102, 0.70432967, 0.21391934]], dtype=float32)"
      ]
     },
     "execution_count": 34,
     "metadata": {},
     "output_type": "execute_result"
    }
   ],
   "source": [
    "xgb_classifier.predict_proba(X_test)"
   ]
  },
  {
   "cell_type": "code",
   "execution_count": 35,
   "id": "4ad8bc27",
   "metadata": {
    "execution": {
     "iopub.execute_input": "2022-07-05T15:43:46.329807Z",
     "iopub.status.busy": "2022-07-05T15:43:46.328971Z",
     "iopub.status.idle": "2022-07-05T15:43:46.335891Z",
     "shell.execute_reply": "2022-07-05T15:43:46.335169Z"
    },
    "papermill": {
     "duration": 0.026106,
     "end_time": "2022-07-05T15:43:46.337825",
     "exception": false,
     "start_time": "2022-07-05T15:43:46.311719",
     "status": "completed"
    },
    "tags": []
   },
   "outputs": [
    {
     "data": {
      "text/plain": [
       "0.6648860787092554"
      ]
     },
     "execution_count": 35,
     "metadata": {},
     "output_type": "execute_result"
    }
   ],
   "source": [
    "sklearn.metrics.accuracy_score(y_test,ypred)"
   ]
  },
  {
   "cell_type": "code",
   "execution_count": 36,
   "id": "9a87ab95",
   "metadata": {
    "execution": {
     "iopub.execute_input": "2022-07-05T15:43:46.371952Z",
     "iopub.status.busy": "2022-07-05T15:43:46.371301Z",
     "iopub.status.idle": "2022-07-05T15:43:46.375235Z",
     "shell.execute_reply": "2022-07-05T15:43:46.374264Z"
    },
    "papermill": {
     "duration": 0.023302,
     "end_time": "2022-07-05T15:43:46.377205",
     "exception": false,
     "start_time": "2022-07-05T15:43:46.353903",
     "status": "completed"
    },
    "tags": []
   },
   "outputs": [],
   "source": [
    "# sklearn.metrics.confusion_matrix(y_test,ypred)"
   ]
  },
  {
   "cell_type": "markdown",
   "id": "ad4a47ad",
   "metadata": {
    "papermill": {
     "duration": 0.015683,
     "end_time": "2022-07-05T15:43:46.408379",
     "exception": false,
     "start_time": "2022-07-05T15:43:46.392696",
     "status": "completed"
    },
    "tags": []
   },
   "source": [
    "# Submition Data"
   ]
  },
  {
   "cell_type": "code",
   "execution_count": 37,
   "id": "988b515a",
   "metadata": {
    "execution": {
     "iopub.execute_input": "2022-07-05T15:43:46.442938Z",
     "iopub.status.busy": "2022-07-05T15:43:46.442221Z",
     "iopub.status.idle": "2022-07-05T15:43:47.496399Z",
     "shell.execute_reply": "2022-07-05T15:43:47.495118Z"
    },
    "papermill": {
     "duration": 1.074806,
     "end_time": "2022-07-05T15:43:47.499124",
     "exception": false,
     "start_time": "2022-07-05T15:43:46.424318",
     "status": "completed"
    },
    "tags": []
   },
   "outputs": [],
   "source": [
    "nlp = spacy.load(\"en_core_web_sm\")\n",
    "\n",
    "docs = [*nlp.pipe(test_data.discourse_text)]"
   ]
  },
  {
   "cell_type": "code",
   "execution_count": 38,
   "id": "9a6bcab3",
   "metadata": {
    "execution": {
     "iopub.execute_input": "2022-07-05T15:43:47.533542Z",
     "iopub.status.busy": "2022-07-05T15:43:47.532837Z",
     "iopub.status.idle": "2022-07-05T15:43:47.537803Z",
     "shell.execute_reply": "2022-07-05T15:43:47.537058Z"
    },
    "papermill": {
     "duration": 0.024312,
     "end_time": "2022-07-05T15:43:47.539733",
     "exception": false,
     "start_time": "2022-07-05T15:43:47.515421",
     "status": "completed"
    },
    "tags": []
   },
   "outputs": [],
   "source": [
    "test_data[\"discourse_text_docs\"] = docs"
   ]
  },
  {
   "cell_type": "code",
   "execution_count": 39,
   "id": "c4151e6b",
   "metadata": {
    "execution": {
     "iopub.execute_input": "2022-07-05T15:43:47.574642Z",
     "iopub.status.busy": "2022-07-05T15:43:47.573952Z",
     "iopub.status.idle": "2022-07-05T15:43:47.578435Z",
     "shell.execute_reply": "2022-07-05T15:43:47.577702Z"
    },
    "papermill": {
     "duration": 0.024451,
     "end_time": "2022-07-05T15:43:47.580412",
     "exception": false,
     "start_time": "2022-07-05T15:43:47.555961",
     "status": "completed"
    },
    "tags": []
   },
   "outputs": [],
   "source": [
    "discourse_type_labels2 = le.transform(test_data.discourse_type)"
   ]
  },
  {
   "cell_type": "code",
   "execution_count": 40,
   "id": "162e2bb2",
   "metadata": {
    "execution": {
     "iopub.execute_input": "2022-07-05T15:43:47.614634Z",
     "iopub.status.busy": "2022-07-05T15:43:47.613953Z",
     "iopub.status.idle": "2022-07-05T15:43:47.618396Z",
     "shell.execute_reply": "2022-07-05T15:43:47.617690Z"
    },
    "papermill": {
     "duration": 0.023899,
     "end_time": "2022-07-05T15:43:47.620438",
     "exception": false,
     "start_time": "2022-07-05T15:43:47.596539",
     "status": "completed"
    },
    "tags": []
   },
   "outputs": [],
   "source": [
    "test_data['discourse_type'] = discourse_type_labels2"
   ]
  },
  {
   "cell_type": "code",
   "execution_count": 41,
   "id": "7d665f06",
   "metadata": {
    "execution": {
     "iopub.execute_input": "2022-07-05T15:43:47.654674Z",
     "iopub.status.busy": "2022-07-05T15:43:47.653998Z",
     "iopub.status.idle": "2022-07-05T15:43:47.670868Z",
     "shell.execute_reply": "2022-07-05T15:43:47.670045Z"
    },
    "papermill": {
     "duration": 0.036626,
     "end_time": "2022-07-05T15:43:47.673205",
     "exception": false,
     "start_time": "2022-07-05T15:43:47.636579",
     "status": "completed"
    },
    "tags": []
   },
   "outputs": [],
   "source": [
    "test_data2 = text_features(test_data,\"discourse_text\",\"discourse_text_docs\").copy()"
   ]
  },
  {
   "cell_type": "code",
   "execution_count": 42,
   "id": "ebb44966",
   "metadata": {
    "execution": {
     "iopub.execute_input": "2022-07-05T15:43:47.707526Z",
     "iopub.status.busy": "2022-07-05T15:43:47.706644Z",
     "iopub.status.idle": "2022-07-05T15:43:47.712341Z",
     "shell.execute_reply": "2022-07-05T15:43:47.711548Z"
    },
    "papermill": {
     "duration": 0.025305,
     "end_time": "2022-07-05T15:43:47.714446",
     "exception": false,
     "start_time": "2022-07-05T15:43:47.689141",
     "status": "completed"
    },
    "tags": []
   },
   "outputs": [],
   "source": [
    "X_test2 = cv.transform(test_data2.discourse_text)"
   ]
  },
  {
   "cell_type": "code",
   "execution_count": 43,
   "id": "d2a0420c",
   "metadata": {
    "execution": {
     "iopub.execute_input": "2022-07-05T15:43:47.749520Z",
     "iopub.status.busy": "2022-07-05T15:43:47.748826Z",
     "iopub.status.idle": "2022-07-05T15:43:47.754215Z",
     "shell.execute_reply": "2022-07-05T15:43:47.753297Z"
    },
    "papermill": {
     "duration": 0.025247,
     "end_time": "2022-07-05T15:43:47.756382",
     "exception": false,
     "start_time": "2022-07-05T15:43:47.731135",
     "status": "completed"
    },
    "tags": []
   },
   "outputs": [],
   "source": [
    "numeric_data2 = test_data2.drop(columns=['discourse_id','essay_id','discourse_text','discourse_text_docs'])"
   ]
  },
  {
   "cell_type": "code",
   "execution_count": 44,
   "id": "6b56fc35",
   "metadata": {
    "execution": {
     "iopub.execute_input": "2022-07-05T15:43:47.797248Z",
     "iopub.status.busy": "2022-07-05T15:43:47.796512Z",
     "iopub.status.idle": "2022-07-05T15:43:47.804149Z",
     "shell.execute_reply": "2022-07-05T15:43:47.802831Z"
    },
    "papermill": {
     "duration": 0.032899,
     "end_time": "2022-07-05T15:43:47.806509",
     "exception": false,
     "start_time": "2022-07-05T15:43:47.773610",
     "status": "completed"
    },
    "tags": []
   },
   "outputs": [],
   "source": [
    "X_testing_data = sparse.hstack((X_test2,sc.transform(numeric_data2)))"
   ]
  },
  {
   "cell_type": "markdown",
   "id": "d696a65a",
   "metadata": {
    "papermill": {
     "duration": 0.020002,
     "end_time": "2022-07-05T15:43:47.847365",
     "exception": false,
     "start_time": "2022-07-05T15:43:47.827363",
     "status": "completed"
    },
    "tags": []
   },
   "source": [
    "# XGBoost"
   ]
  },
  {
   "cell_type": "code",
   "execution_count": 45,
   "id": "ffc1101b",
   "metadata": {
    "execution": {
     "iopub.execute_input": "2022-07-05T15:43:47.888895Z",
     "iopub.status.busy": "2022-07-05T15:43:47.887801Z",
     "iopub.status.idle": "2022-07-05T15:44:38.971676Z",
     "shell.execute_reply": "2022-07-05T15:44:38.970505Z"
    },
    "papermill": {
     "duration": 51.12504,
     "end_time": "2022-07-05T15:44:38.990337",
     "exception": false,
     "start_time": "2022-07-05T15:43:47.865297",
     "status": "completed"
    },
    "tags": []
   },
   "outputs": [
    {
     "data": {
      "text/plain": [
       "XGBClassifier(base_score=0.5, booster='gbtree', callbacks=None,\n",
       "              colsample_bylevel=1, colsample_bynode=1, colsample_bytree=1,\n",
       "              early_stopping_rounds=None, enable_categorical=False,\n",
       "              eval_metric=None, gamma=0, gpu_id=-1, grow_policy='depthwise',\n",
       "              importance_type=None, interaction_constraints='',\n",
       "              learning_rate=0.37, max_bin=256, max_cat_to_onehot=4,\n",
       "              max_delta_step=0, max_depth=6, max_leaves=0, min_child_weight=1,\n",
       "              missing=nan, monotone_constraints='()', n_estimators=195,\n",
       "              n_jobs=0, num_parallel_tree=1, objective='multi:softprob',\n",
       "              predictor='auto', random_state=0, reg_alpha=0, ...)"
      ]
     },
     "execution_count": 45,
     "metadata": {},
     "output_type": "execute_result"
    }
   ],
   "source": [
    "xgb_classifier.fit(X_training_data,y)"
   ]
  },
  {
   "cell_type": "code",
   "execution_count": 46,
   "id": "c7707d16",
   "metadata": {
    "execution": {
     "iopub.execute_input": "2022-07-05T15:44:39.025107Z",
     "iopub.status.busy": "2022-07-05T15:44:39.024727Z",
     "iopub.status.idle": "2022-07-05T15:44:39.043703Z",
     "shell.execute_reply": "2022-07-05T15:44:39.042790Z"
    },
    "papermill": {
     "duration": 0.039385,
     "end_time": "2022-07-05T15:44:39.046347",
     "exception": false,
     "start_time": "2022-07-05T15:44:39.006962",
     "status": "completed"
    },
    "tags": []
   },
   "outputs": [],
   "source": [
    "ypred = xgb_classifier.predict(X_testing_data)"
   ]
  },
  {
   "cell_type": "code",
   "execution_count": 47,
   "id": "c2b528d0",
   "metadata": {
    "execution": {
     "iopub.execute_input": "2022-07-05T15:44:39.084996Z",
     "iopub.status.busy": "2022-07-05T15:44:39.083849Z",
     "iopub.status.idle": "2022-07-05T15:44:39.100638Z",
     "shell.execute_reply": "2022-07-05T15:44:39.099709Z"
    },
    "papermill": {
     "duration": 0.037649,
     "end_time": "2022-07-05T15:44:39.103192",
     "exception": false,
     "start_time": "2022-07-05T15:44:39.065543",
     "status": "completed"
    },
    "tags": []
   },
   "outputs": [],
   "source": [
    "test_predict = xgb_classifier.predict_proba(X_testing_data)"
   ]
  },
  {
   "cell_type": "code",
   "execution_count": 48,
   "id": "b7bd15d1",
   "metadata": {
    "execution": {
     "iopub.execute_input": "2022-07-05T15:44:39.139971Z",
     "iopub.status.busy": "2022-07-05T15:44:39.139601Z",
     "iopub.status.idle": "2022-07-05T15:44:39.146622Z",
     "shell.execute_reply": "2022-07-05T15:44:39.145605Z"
    },
    "papermill": {
     "duration": 0.026788,
     "end_time": "2022-07-05T15:44:39.148682",
     "exception": false,
     "start_time": "2022-07-05T15:44:39.121894",
     "status": "completed"
    },
    "tags": []
   },
   "outputs": [
    {
     "data": {
      "text/plain": [
       "array([[0.00366892, 0.26708975, 0.7292413 ],\n",
       "       [0.04808914, 0.7676333 , 0.18427749],\n",
       "       [0.04202449, 0.57078   , 0.3871956 ],\n",
       "       [0.1253755 , 0.610134  , 0.26449046],\n",
       "       [0.07194986, 0.54216486, 0.3858853 ],\n",
       "       [0.01828533, 0.16783999, 0.81387466],\n",
       "       [0.01587587, 0.5282219 , 0.4559022 ],\n",
       "       [0.07472366, 0.6226058 , 0.30267054],\n",
       "       [0.03932483, 0.39316806, 0.5675071 ],\n",
       "       [0.00397196, 0.27527353, 0.7207545 ]], dtype=float32)"
      ]
     },
     "execution_count": 48,
     "metadata": {},
     "output_type": "execute_result"
    }
   ],
   "source": [
    "test_predict"
   ]
  },
  {
   "cell_type": "code",
   "execution_count": 49,
   "id": "aa8f6bb3",
   "metadata": {
    "execution": {
     "iopub.execute_input": "2022-07-05T15:44:39.183651Z",
     "iopub.status.busy": "2022-07-05T15:44:39.183240Z",
     "iopub.status.idle": "2022-07-05T15:44:39.216186Z",
     "shell.execute_reply": "2022-07-05T15:44:39.215165Z"
    },
    "papermill": {
     "duration": 0.053092,
     "end_time": "2022-07-05T15:44:39.218360",
     "exception": false,
     "start_time": "2022-07-05T15:44:39.165268",
     "status": "completed"
    },
    "tags": []
   },
   "outputs": [
    {
     "data": {
      "text/plain": [
       "array([2, 1, 1, 1, 1, 2, 1, 1, 2, 2])"
      ]
     },
     "execution_count": 49,
     "metadata": {},
     "output_type": "execute_result"
    }
   ],
   "source": [
    "xgb_classifier.predict(X_testing_data)"
   ]
  },
  {
   "cell_type": "code",
   "execution_count": 50,
   "id": "59fb457e",
   "metadata": {
    "execution": {
     "iopub.execute_input": "2022-07-05T15:44:39.254837Z",
     "iopub.status.busy": "2022-07-05T15:44:39.253764Z",
     "iopub.status.idle": "2022-07-05T15:44:39.288638Z",
     "shell.execute_reply": "2022-07-05T15:44:39.287539Z"
    },
    "papermill": {
     "duration": 0.055519,
     "end_time": "2022-07-05T15:44:39.291129",
     "exception": false,
     "start_time": "2022-07-05T15:44:39.235610",
     "status": "completed"
    },
    "tags": []
   },
   "outputs": [
    {
     "data": {
      "text/html": [
       "<div>\n",
       "<style scoped>\n",
       "    .dataframe tbody tr th:only-of-type {\n",
       "        vertical-align: middle;\n",
       "    }\n",
       "\n",
       "    .dataframe tbody tr th {\n",
       "        vertical-align: top;\n",
       "    }\n",
       "\n",
       "    .dataframe thead th {\n",
       "        text-align: right;\n",
       "    }\n",
       "</style>\n",
       "<table border=\"1\" class=\"dataframe\">\n",
       "  <thead>\n",
       "    <tr style=\"text-align: right;\">\n",
       "      <th></th>\n",
       "      <th>discourse_id</th>\n",
       "      <th>essay_id</th>\n",
       "      <th>discourse_text</th>\n",
       "      <th>discourse_type</th>\n",
       "      <th>discourse_text_docs</th>\n",
       "      <th>discourse_text_num_words</th>\n",
       "      <th>discourse_text_num_unique_words</th>\n",
       "      <th>discourse_text_num_chars</th>\n",
       "      <th>discourse_text_num_stopwords</th>\n",
       "      <th>discourse_text_num_words_upper</th>\n",
       "      <th>...</th>\n",
       "      <th>discourse_text_mean_word_len</th>\n",
       "      <th>discourse_text_num_paragraphs</th>\n",
       "      <th>discourse_text_nn_count</th>\n",
       "      <th>discourse_text_pr_count</th>\n",
       "      <th>discourse_text_con_count</th>\n",
       "      <th>discourse_text_vb_count</th>\n",
       "      <th>discourse_text_adv_count</th>\n",
       "      <th>discourse_text_adj_count</th>\n",
       "      <th>discourse_text_intj_count</th>\n",
       "      <th>discourse_text_num_count</th>\n",
       "    </tr>\n",
       "  </thead>\n",
       "  <tbody>\n",
       "    <tr>\n",
       "      <th>0</th>\n",
       "      <td>a261b6e14276</td>\n",
       "      <td>D72CB1C11673</td>\n",
       "      <td>Making choices in life can be very difficult. ...</td>\n",
       "      <td>4</td>\n",
       "      <td>(Making, choices, in, life, can, be, very, dif...</td>\n",
       "      <td>50</td>\n",
       "      <td>40</td>\n",
       "      <td>274</td>\n",
       "      <td>29</td>\n",
       "      <td>0</td>\n",
       "      <td>...</td>\n",
       "      <td>4.480000</td>\n",
       "      <td>1</td>\n",
       "      <td>11</td>\n",
       "      <td>5</td>\n",
       "      <td>8</td>\n",
       "      <td>6</td>\n",
       "      <td>0</td>\n",
       "      <td>4</td>\n",
       "      <td>0</td>\n",
       "      <td>1</td>\n",
       "    </tr>\n",
       "    <tr>\n",
       "      <th>1</th>\n",
       "      <td>5a88900e7dc1</td>\n",
       "      <td>D72CB1C11673</td>\n",
       "      <td>Seeking multiple opinions can help a person ma...</td>\n",
       "      <td>5</td>\n",
       "      <td>(Seeking, multiple, opinions, can, help, a, pe...</td>\n",
       "      <td>11</td>\n",
       "      <td>10</td>\n",
       "      <td>65</td>\n",
       "      <td>4</td>\n",
       "      <td>0</td>\n",
       "      <td>...</td>\n",
       "      <td>4.909091</td>\n",
       "      <td>1</td>\n",
       "      <td>3</td>\n",
       "      <td>0</td>\n",
       "      <td>4</td>\n",
       "      <td>0</td>\n",
       "      <td>0</td>\n",
       "      <td>2</td>\n",
       "      <td>0</td>\n",
       "      <td>0</td>\n",
       "    </tr>\n",
       "    <tr>\n",
       "      <th>2</th>\n",
       "      <td>9790d835736b</td>\n",
       "      <td>D72CB1C11673</td>\n",
       "      <td>it can decrease stress levels</td>\n",
       "      <td>0</td>\n",
       "      <td>(it, can, decrease, stress, levels)</td>\n",
       "      <td>5</td>\n",
       "      <td>5</td>\n",
       "      <td>30</td>\n",
       "      <td>2</td>\n",
       "      <td>0</td>\n",
       "      <td>...</td>\n",
       "      <td>5.000000</td>\n",
       "      <td>1</td>\n",
       "      <td>2</td>\n",
       "      <td>1</td>\n",
       "      <td>2</td>\n",
       "      <td>0</td>\n",
       "      <td>0</td>\n",
       "      <td>0</td>\n",
       "      <td>0</td>\n",
       "      <td>0</td>\n",
       "    </tr>\n",
       "    <tr>\n",
       "      <th>3</th>\n",
       "      <td>75ce6d68b67b</td>\n",
       "      <td>D72CB1C11673</td>\n",
       "      <td>a great chance to learn something new</td>\n",
       "      <td>0</td>\n",
       "      <td>(a, great, chance, to, learn, something, new)</td>\n",
       "      <td>7</td>\n",
       "      <td>7</td>\n",
       "      <td>38</td>\n",
       "      <td>3</td>\n",
       "      <td>0</td>\n",
       "      <td>...</td>\n",
       "      <td>4.428571</td>\n",
       "      <td>1</td>\n",
       "      <td>1</td>\n",
       "      <td>1</td>\n",
       "      <td>1</td>\n",
       "      <td>0</td>\n",
       "      <td>0</td>\n",
       "      <td>2</td>\n",
       "      <td>0</td>\n",
       "      <td>0</td>\n",
       "    </tr>\n",
       "    <tr>\n",
       "      <th>4</th>\n",
       "      <td>93578d946723</td>\n",
       "      <td>D72CB1C11673</td>\n",
       "      <td>can be very helpful and beneficial.</td>\n",
       "      <td>0</td>\n",
       "      <td>(can, be, very, helpful, and, beneficial, .)</td>\n",
       "      <td>6</td>\n",
       "      <td>6</td>\n",
       "      <td>36</td>\n",
       "      <td>4</td>\n",
       "      <td>0</td>\n",
       "      <td>...</td>\n",
       "      <td>5.000000</td>\n",
       "      <td>1</td>\n",
       "      <td>0</td>\n",
       "      <td>0</td>\n",
       "      <td>1</td>\n",
       "      <td>1</td>\n",
       "      <td>0</td>\n",
       "      <td>2</td>\n",
       "      <td>0</td>\n",
       "      <td>0</td>\n",
       "    </tr>\n",
       "    <tr>\n",
       "      <th>5</th>\n",
       "      <td>2e214524dbe3</td>\n",
       "      <td>D72CB1C11673</td>\n",
       "      <td>When making a decision there is a chance that ...</td>\n",
       "      <td>3</td>\n",
       "      <td>(When, making, a, decision, there, is, a, chan...</td>\n",
       "      <td>74</td>\n",
       "      <td>57</td>\n",
       "      <td>428</td>\n",
       "      <td>44</td>\n",
       "      <td>0</td>\n",
       "      <td>...</td>\n",
       "      <td>4.783784</td>\n",
       "      <td>1</td>\n",
       "      <td>14</td>\n",
       "      <td>5</td>\n",
       "      <td>18</td>\n",
       "      <td>4</td>\n",
       "      <td>0</td>\n",
       "      <td>9</td>\n",
       "      <td>0</td>\n",
       "      <td>0</td>\n",
       "    </tr>\n",
       "    <tr>\n",
       "      <th>6</th>\n",
       "      <td>84812fc2ab9f</td>\n",
       "      <td>D72CB1C11673</td>\n",
       "      <td>Everyone is different and may have more experi...</td>\n",
       "      <td>3</td>\n",
       "      <td>(Everyone, is, different, and, may, have, more...</td>\n",
       "      <td>82</td>\n",
       "      <td>63</td>\n",
       "      <td>475</td>\n",
       "      <td>46</td>\n",
       "      <td>0</td>\n",
       "      <td>...</td>\n",
       "      <td>4.792683</td>\n",
       "      <td>1</td>\n",
       "      <td>19</td>\n",
       "      <td>9</td>\n",
       "      <td>16</td>\n",
       "      <td>3</td>\n",
       "      <td>0</td>\n",
       "      <td>10</td>\n",
       "      <td>0</td>\n",
       "      <td>0</td>\n",
       "    </tr>\n",
       "    <tr>\n",
       "      <th>7</th>\n",
       "      <td>c668ff840720</td>\n",
       "      <td>D72CB1C11673</td>\n",
       "      <td>Seeking others opinion can be very helpful and...</td>\n",
       "      <td>0</td>\n",
       "      <td>(Seeking, others, opinion, can, be, very, help...</td>\n",
       "      <td>9</td>\n",
       "      <td>9</td>\n",
       "      <td>59</td>\n",
       "      <td>5</td>\n",
       "      <td>0</td>\n",
       "      <td>...</td>\n",
       "      <td>5.555556</td>\n",
       "      <td>1</td>\n",
       "      <td>2</td>\n",
       "      <td>0</td>\n",
       "      <td>2</td>\n",
       "      <td>1</td>\n",
       "      <td>0</td>\n",
       "      <td>2</td>\n",
       "      <td>0</td>\n",
       "      <td>0</td>\n",
       "    </tr>\n",
       "    <tr>\n",
       "      <th>8</th>\n",
       "      <td>739a6d00f44a</td>\n",
       "      <td>D72CB1C11673</td>\n",
       "      <td>Taking other peoples advice and doing what the...</td>\n",
       "      <td>3</td>\n",
       "      <td>(Taking, other, peoples, advice, and, doing, w...</td>\n",
       "      <td>88</td>\n",
       "      <td>61</td>\n",
       "      <td>458</td>\n",
       "      <td>56</td>\n",
       "      <td>0</td>\n",
       "      <td>...</td>\n",
       "      <td>4.204545</td>\n",
       "      <td>1</td>\n",
       "      <td>13</td>\n",
       "      <td>14</td>\n",
       "      <td>16</td>\n",
       "      <td>7</td>\n",
       "      <td>0</td>\n",
       "      <td>10</td>\n",
       "      <td>0</td>\n",
       "      <td>0</td>\n",
       "    </tr>\n",
       "    <tr>\n",
       "      <th>9</th>\n",
       "      <td>bcfae2c9a244</td>\n",
       "      <td>D72CB1C11673</td>\n",
       "      <td>You can learn from others experiences by seeki...</td>\n",
       "      <td>1</td>\n",
       "      <td>(You, can, learn, from, others, experiences, b...</td>\n",
       "      <td>57</td>\n",
       "      <td>50</td>\n",
       "      <td>356</td>\n",
       "      <td>27</td>\n",
       "      <td>0</td>\n",
       "      <td>...</td>\n",
       "      <td>5.228070</td>\n",
       "      <td>1</td>\n",
       "      <td>16</td>\n",
       "      <td>6</td>\n",
       "      <td>15</td>\n",
       "      <td>4</td>\n",
       "      <td>0</td>\n",
       "      <td>3</td>\n",
       "      <td>0</td>\n",
       "      <td>0</td>\n",
       "    </tr>\n",
       "  </tbody>\n",
       "</table>\n",
       "<p>10 rows × 21 columns</p>\n",
       "</div>"
      ],
      "text/plain": [
       "   discourse_id      essay_id  \\\n",
       "0  a261b6e14276  D72CB1C11673   \n",
       "1  5a88900e7dc1  D72CB1C11673   \n",
       "2  9790d835736b  D72CB1C11673   \n",
       "3  75ce6d68b67b  D72CB1C11673   \n",
       "4  93578d946723  D72CB1C11673   \n",
       "5  2e214524dbe3  D72CB1C11673   \n",
       "6  84812fc2ab9f  D72CB1C11673   \n",
       "7  c668ff840720  D72CB1C11673   \n",
       "8  739a6d00f44a  D72CB1C11673   \n",
       "9  bcfae2c9a244  D72CB1C11673   \n",
       "\n",
       "                                      discourse_text  discourse_type  \\\n",
       "0  Making choices in life can be very difficult. ...               4   \n",
       "1  Seeking multiple opinions can help a person ma...               5   \n",
       "2                     it can decrease stress levels                0   \n",
       "3             a great chance to learn something new                0   \n",
       "4               can be very helpful and beneficial.                0   \n",
       "5  When making a decision there is a chance that ...               3   \n",
       "6  Everyone is different and may have more experi...               3   \n",
       "7  Seeking others opinion can be very helpful and...               0   \n",
       "8  Taking other peoples advice and doing what the...               3   \n",
       "9  You can learn from others experiences by seeki...               1   \n",
       "\n",
       "                                 discourse_text_docs  \\\n",
       "0  (Making, choices, in, life, can, be, very, dif...   \n",
       "1  (Seeking, multiple, opinions, can, help, a, pe...   \n",
       "2                (it, can, decrease, stress, levels)   \n",
       "3      (a, great, chance, to, learn, something, new)   \n",
       "4       (can, be, very, helpful, and, beneficial, .)   \n",
       "5  (When, making, a, decision, there, is, a, chan...   \n",
       "6  (Everyone, is, different, and, may, have, more...   \n",
       "7  (Seeking, others, opinion, can, be, very, help...   \n",
       "8  (Taking, other, peoples, advice, and, doing, w...   \n",
       "9  (You, can, learn, from, others, experiences, b...   \n",
       "\n",
       "   discourse_text_num_words  discourse_text_num_unique_words  \\\n",
       "0                        50                               40   \n",
       "1                        11                               10   \n",
       "2                         5                                5   \n",
       "3                         7                                7   \n",
       "4                         6                                6   \n",
       "5                        74                               57   \n",
       "6                        82                               63   \n",
       "7                         9                                9   \n",
       "8                        88                               61   \n",
       "9                        57                               50   \n",
       "\n",
       "   discourse_text_num_chars  discourse_text_num_stopwords  \\\n",
       "0                       274                            29   \n",
       "1                        65                             4   \n",
       "2                        30                             2   \n",
       "3                        38                             3   \n",
       "4                        36                             4   \n",
       "5                       428                            44   \n",
       "6                       475                            46   \n",
       "7                        59                             5   \n",
       "8                       458                            56   \n",
       "9                       356                            27   \n",
       "\n",
       "   discourse_text_num_words_upper  ...  discourse_text_mean_word_len  \\\n",
       "0                               0  ...                      4.480000   \n",
       "1                               0  ...                      4.909091   \n",
       "2                               0  ...                      5.000000   \n",
       "3                               0  ...                      4.428571   \n",
       "4                               0  ...                      5.000000   \n",
       "5                               0  ...                      4.783784   \n",
       "6                               0  ...                      4.792683   \n",
       "7                               0  ...                      5.555556   \n",
       "8                               0  ...                      4.204545   \n",
       "9                               0  ...                      5.228070   \n",
       "\n",
       "   discourse_text_num_paragraphs  discourse_text_nn_count  \\\n",
       "0                              1                       11   \n",
       "1                              1                        3   \n",
       "2                              1                        2   \n",
       "3                              1                        1   \n",
       "4                              1                        0   \n",
       "5                              1                       14   \n",
       "6                              1                       19   \n",
       "7                              1                        2   \n",
       "8                              1                       13   \n",
       "9                              1                       16   \n",
       "\n",
       "   discourse_text_pr_count  discourse_text_con_count  discourse_text_vb_count  \\\n",
       "0                        5                         8                        6   \n",
       "1                        0                         4                        0   \n",
       "2                        1                         2                        0   \n",
       "3                        1                         1                        0   \n",
       "4                        0                         1                        1   \n",
       "5                        5                        18                        4   \n",
       "6                        9                        16                        3   \n",
       "7                        0                         2                        1   \n",
       "8                       14                        16                        7   \n",
       "9                        6                        15                        4   \n",
       "\n",
       "   discourse_text_adv_count  discourse_text_adj_count  \\\n",
       "0                         0                         4   \n",
       "1                         0                         2   \n",
       "2                         0                         0   \n",
       "3                         0                         2   \n",
       "4                         0                         2   \n",
       "5                         0                         9   \n",
       "6                         0                        10   \n",
       "7                         0                         2   \n",
       "8                         0                        10   \n",
       "9                         0                         3   \n",
       "\n",
       "   discourse_text_intj_count  discourse_text_num_count  \n",
       "0                          0                         1  \n",
       "1                          0                         0  \n",
       "2                          0                         0  \n",
       "3                          0                         0  \n",
       "4                          0                         0  \n",
       "5                          0                         0  \n",
       "6                          0                         0  \n",
       "7                          0                         0  \n",
       "8                          0                         0  \n",
       "9                          0                         0  \n",
       "\n",
       "[10 rows x 21 columns]"
      ]
     },
     "execution_count": 50,
     "metadata": {},
     "output_type": "execute_result"
    }
   ],
   "source": [
    "test_data"
   ]
  },
  {
   "cell_type": "code",
   "execution_count": null,
   "id": "af2c4047",
   "metadata": {},
   "outputs": [],
   "source": [
    "sub['Ineffective'] = test_predict[:,0]\n",
    "sub['Adequate'] = test_predict[:,1]\n",
    "sub['Effective'] = test_predict[:,2]\n",
    "sub"
   ]
  },
  {
   "cell_type": "code",
   "execution_count": 51,
   "id": "77c2f4ee",
   "metadata": {
    "execution": {
     "iopub.execute_input": "2022-07-05T15:44:39.328393Z",
     "iopub.status.busy": "2022-07-05T15:44:39.327986Z",
     "iopub.status.idle": "2022-07-05T15:44:39.333867Z",
     "shell.execute_reply": "2022-07-05T15:44:39.332772Z"
    },
    "papermill": {
     "duration": 0.027117,
     "end_time": "2022-07-05T15:44:39.336096",
     "exception": false,
     "start_time": "2022-07-05T15:44:39.308979",
     "status": "completed"
    },
    "tags": []
   },
   "outputs": [],
   "source": [
    "\"\"\"\n",
    "submit_data_dict = {'discourse_id':test_data.discourse_id\n",
    "              ,'Ineffective':test_predict[:,0]\n",
    "              ,'Adequate':test_predict[:,1]\n",
    "              ,'Effective':test_predict[:,2]}\n",
    "\"\"\""
   ]
  },
  {
   "cell_type": "code",
   "execution_count": 52,
   "id": "1020e8aa",
   "metadata": {
    "execution": {
     "iopub.execute_input": "2022-07-05T15:44:39.373612Z",
     "iopub.status.busy": "2022-07-05T15:44:39.372949Z",
     "iopub.status.idle": "2022-07-05T15:44:39.379887Z",
     "shell.execute_reply": "2022-07-05T15:44:39.379078Z"
    },
    "papermill": {
     "duration": 0.02814,
     "end_time": "2022-07-05T15:44:39.382087",
     "exception": false,
     "start_time": "2022-07-05T15:44:39.353947",
     "status": "completed"
    },
    "tags": []
   },
   "outputs": [],
   "source": [
    "# sub = np.around(pd.DataFrame(sub),2)"
   ]
  },
  {
   "cell_type": "code",
   "execution_count": 53,
   "id": "1f8b5ea5",
   "metadata": {
    "execution": {
     "iopub.execute_input": "2022-07-05T15:44:39.419640Z",
     "iopub.status.busy": "2022-07-05T15:44:39.419001Z",
     "iopub.status.idle": "2022-07-05T15:44:39.426523Z",
     "shell.execute_reply": "2022-07-05T15:44:39.425780Z"
    },
    "papermill": {
     "duration": 0.028855,
     "end_time": "2022-07-05T15:44:39.428611",
     "exception": false,
     "start_time": "2022-07-05T15:44:39.399756",
     "status": "completed"
    },
    "tags": []
   },
   "outputs": [],
   "source": [
    "sub.to_csv('submission.csv',index=False)"
   ]
  }
 ],
 "metadata": {
  "kernelspec": {
   "display_name": "Python 3.8.8 ('base')",
   "language": "python",
   "name": "python3"
  },
  "language_info": {
   "codemirror_mode": {
    "name": "ipython",
    "version": 3
   },
   "file_extension": ".py",
   "mimetype": "text/x-python",
   "name": "python",
   "nbconvert_exporter": "python",
   "pygments_lexer": "ipython3",
   "version": "3.8.8"
  },
  "papermill": {
   "default_parameters": {},
   "duration": 370.25624,
   "end_time": "2022-07-05T15:44:40.469708",
   "environment_variables": {},
   "exception": null,
   "input_path": "__notebook__.ipynb",
   "output_path": "__notebook__.ipynb",
   "parameters": {},
   "start_time": "2022-07-05T15:38:30.213468",
   "version": "2.3.4"
  },
  "vscode": {
   "interpreter": {
    "hash": "cd78fef2128015050713e82ca51c6520b11aee7c9ee8df750520bbbc7384cbaa"
   }
  }
 },
 "nbformat": 4,
 "nbformat_minor": 5
}
